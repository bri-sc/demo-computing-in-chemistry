{
 "cells": [
  {
   "cell_type": "markdown",
   "id": "dc972658-3cee-4a91-817d-a3458fc33ca9",
   "metadata": {},
   "source": [
    "# Computing in Chemistry"
   ]
  },
  {
   "cell_type": "markdown",
   "id": "bacf26c2-9a3b-462d-af31-28c589610b23",
   "metadata": {},
   "source": [
    "This demonstration aims to introduce how Python can be applied in a Chemistry context. We will focus on reactions and kinetics, by analysing a dataset containing time and concentration data.\n",
    "\n",
    "The Jupyter notebook uses data sourced and modified slightly from:\n",
    "\n",
    "**Repository**: [chemical-kinetics](https://github.com/flboudoire/chemical-kinetics)\n",
    "\n",
    "**Author**: [@flboudoire](https://github.com/flboudoire)\n",
    "\n",
    "**License**: MIT License\n",
    "\n",
    "With documentation here: https://chemical-kinetics.readthedocs.io/en/latest/index.html"
   ]
  },
  {
   "cell_type": "markdown",
   "id": "3693366e-f325-436e-b6ea-491133426a70",
   "metadata": {},
   "source": [
    "---"
   ]
  },
  {
   "cell_type": "markdown",
   "id": "fbd1fce3-4d86-4ed9-aab9-a5f9426831b6",
   "metadata": {},
   "source": [
    "## Concentration and time data"
   ]
  },
  {
   "cell_type": "markdown",
   "id": "6cfb7862-c275-4c27-8d04-ee8a48954710",
   "metadata": {},
   "source": [
    "In this demo we will have a look at a set of data for a typical chemical reaction that might take place for a kinetics study, where the progress of the reaction is monitored over time. Some examples include the decomposition of hydrogen peroxide, or the iodine clock reaction, more detail of which can be found [here](https://chemguide.co.uk/physical/basicrates/experimental.html).\n",
    "\n",
    "When you carry out a kinetics experiment, you collect the data in the lab which then needs to be processed and analysed, in a similar way to what we are doing in this demo. Python offers a wide range of tools in which we can analyse the data a lot quicker and get more insight than if we plotted it by hand for example.\n",
    "\n",
    "We will then determine the rate order of the reactant (zeroth, first, second), by plotting graphs from integrated rate laws (see the image). \n",
    "\n",
    "As a recap, reaction orders are a way of categorising reactions based on the relationship between the rate and the concentration of the reactants (zeroth order: $rate \\propto [A]^0 = 1$, first order: $rate \\propto [A]^1$, second order: $rate \\propto [A]^2$). Here, $[A]_0$ is the initial concentration of reactant, $[A]$ is the concentration of reactant at a given time, $k$ is the (positive) rate constant and $t$ is time. \n",
    "\n",
    "![reaction rates](reaction_rates.png)\n",
    "\n",
    "(Picture taken from https://2012books.lardbucket.org/books/principles-of-general-chemistry-v1.0/s18-04-using-graphs-to-determine-rate.html)\n",
    "\n",
    "Looking at these integrated rate laws, they might seem quite confusing at first, but these equations are actually just in a disguised $y = mx + c$ format and will give a linear plot if the right variables are being plotted (note the 'slope' label on the graph - it is more common to call the slope the gradient, so we will be using the term gradient for the rest of the demo).\n",
    "\n",
    "To explain this:\n",
    "\n",
    "For a zeroth order reaction: \n",
    "- $[A] = - kt + [A]_0$\n",
    "- We plot $[A]$ as our $y$ vs $t$ as our $x$\n",
    "- The gradient is $-k$ (the negative of the rate constant)\n",
    "- The $y$ intercept will be $[A]_0$.\n",
    "\n",
    "For a first order reaction: \n",
    "- $ln([A]) = - kt + ln([A]_0)$ \n",
    "- We plot $ln([A])$ as our $y$ vs $t$ as our $x$\n",
    "- The gradient is $-k$ (the negative of the rate constant)\n",
    "- The $y$ intercept will be $ln([A]_0)$.\n",
    "\n",
    "For a second order reaction: \n",
    "- $\\frac{1}{[A]} = kt + \\frac{1}{[A]_0}$\n",
    "- We plot $\\frac{1}{[A]}$ as our $y$ vs $t$ as our $x$\n",
    "- The gradient is $+k$ (rate constant)\n",
    "- The $y$ intercept will also be $\\frac{1}{[A]_0}$\n",
    "\n",
    "($ln()$ is a mathematical function which takes the natural logarithm of a number - in other words, if you are finding $ln([A])$, it means \"to what power should $e$ be raised to to get $[A]$?\")\n",
    "\n",
    "We will not go into the details of the integrations in this demo, but you can find out more about how these equations are derived here: https://chemistrytalk.org/integrated-rate-laws/\n",
    "\n",
    "See here also for a reminder of how to integrate functions: http://www.emaths.ie/integration.html\n",
    "\n",
    "We will then use a statistical technique called the linear fit, or _linear regression_. This uses the data given to create a line of best fit for the graph, and we can then use this to extrapolate or predict data points outside the current given range, as well as interpolate (predicting data points within the range)."
   ]
  },
  {
   "cell_type": "markdown",
   "id": "dbec454b-c6a9-4408-8f7a-75c8e8d024dc",
   "metadata": {},
   "source": [
    "---"
   ]
  },
  {
   "cell_type": "markdown",
   "id": "58357a3c-5d1b-4d5d-9347-39fb9e585992",
   "metadata": {},
   "source": [
    "## How to use Jupyter"
   ]
  },
  {
   "cell_type": "markdown",
   "id": "cff12bc8-4a80-4966-a78f-ab70648d723c",
   "metadata": {},
   "source": [
    "In Jupyter notebooks code can be run cell by cell. Cells are like textboxes which let you input code and comments, and the play button (⏵) lets you run cells individually. The fast forward button (⏩) lets you run the entire notebook. You can also press Shift+Enter to run cells individually.\n",
    "\n",
    "The cells can be run as they are, but sometimes we'll also ask you to input some additional code, either in the same cell or in an additional specified cell before running."
   ]
  },
  {
   "cell_type": "markdown",
   "id": "2c0a2d4f-d233-46a8-ac18-9d11cae17818",
   "metadata": {},
   "source": [
    "---"
   ]
  },
  {
   "cell_type": "markdown",
   "id": "a5c216a1-1f33-48e0-9a47-61880cabf72c",
   "metadata": {},
   "source": [
    "## The data"
   ]
  },
  {
   "cell_type": "markdown",
   "id": "4edd1632-f65a-4485-a467-f0312ffcaa6e",
   "metadata": {},
   "source": [
    "**Skills: reading in data using `pandas`, basic plotting using `matplotlib`**\n",
    "\n",
    "First, we will import the _libraries_ that we require - these are pre-written packages that have various different functionalities. Most of them are imported in the format `import X as Y`, where `X` is the full name of the library and `Y` is an abbreviation for it - you can put anything you want as the name for `Y`, but there is normally a naming convention for each library, such as `pandas` being shortened to `pd`, to create consistency across code.\n",
    "\n",
    "You will notice that there is a _directory_ (folder) called \"data\". There are some files within it, which we will be analysing in this demo. They have been saved in a .csv (comma separated values) format, which makes it easy to process.\n",
    "\n",
    "The library we will be using to read in this data is called `pandas` which derives its name from the term _panel data_, used in econometrics to refer to multi-dimensional structured data, often involving measurements over time. There is a specific function to do read data in a .csv format, `read_csv()`."
   ]
  },
  {
   "cell_type": "code",
   "execution_count": null,
   "id": "e8fd1a8e-c5f1-494b-a98c-df1673b5d87e",
   "metadata": {},
   "outputs": [],
   "source": [
    "# Importing library\n",
    "import pandas as pd"
   ]
  },
  {
   "cell_type": "code",
   "execution_count": null,
   "id": "c11c9967-35ee-407a-be93-fd5eb45e1497",
   "metadata": {},
   "outputs": [],
   "source": [
    "data_filename = \"data/concentrations_vs_time.csv\" # Create variable to store the filename\n",
    "data = pd.read_csv(data_filename, sep = \",\") # Read in the data using pandas, specifying that the values are separated by a comma"
   ]
  },
  {
   "cell_type": "markdown",
   "id": "b9d93917-837a-4af9-8a6a-2925a094e6f6",
   "metadata": {},
   "source": [
    "We have created a variable called `data` which contains a table of information that we have extracted from a file. We can preview the first few rows of the table using `.head()`."
   ]
  },
  {
   "cell_type": "code",
   "execution_count": null,
   "id": "156aa9c8-d669-4165-b47c-c844fb45ec2c",
   "metadata": {},
   "outputs": [],
   "source": [
    "data.head()"
   ]
  },
  {
   "cell_type": "markdown",
   "id": "3fc54ef5-1c4e-4580-8b1f-235edd330dc4",
   "metadata": {},
   "source": [
    "The dataset contains columns for time in seconds, and the concentrations in $mol\\:dm^{-3}$ for a compound (arbitrarily named `A`). We can create a variable for this column and then plot it on a graph to look at the behaviour over time.\n",
    "\n",
    "Later on in the Bonus part we will also look at compounds `B` and `C` to get a better picture of the reaction.\n",
    "\n",
    "We will import another library, this time `matplotlib`. You will notice the `.pyplot` after it - this is a submodule within `matplotlib` specifically for creating common plots. You will notice there is another abbreviation, `plt` - this abbreviates the whole of `matplotlib.pyplot`, so when we write `plt.scatter()`, what we are really writing is `matplotlib.pyplot.scatter()`."
   ]
  },
  {
   "cell_type": "code",
   "execution_count": null,
   "id": "8b806376-a18d-4e9f-bbba-8e9d958ab120",
   "metadata": {},
   "outputs": [],
   "source": [
    "import matplotlib.pyplot as plt"
   ]
  },
  {
   "cell_type": "code",
   "execution_count": null,
   "id": "9a9eefac-8947-4996-84c2-6a7661b137df",
   "metadata": {},
   "outputs": [],
   "source": [
    "# Create variables for each column in the dataframe\n",
    "t = data[\"time / s\"]\n",
    "A = data[\"[A] / mol dm⁻³\"]"
   ]
  },
  {
   "cell_type": "code",
   "execution_count": null,
   "id": "dcc6a70a-08e9-4d51-9436-d15adcee4088",
   "metadata": {},
   "outputs": [],
   "source": [
    "# Plot a scatter graph for time vs concentration\n",
    "plt.scatter(t, A, label = \"A\")\n",
    "plt.xlabel(\"time / s\")\n",
    "plt.ylabel(\"concentration / mol dm$^{-3}$\")"
   ]
  },
  {
   "cell_type": "markdown",
   "id": "0b20f90d-364e-4c8d-80d0-e72c24ae2c11",
   "metadata": {},
   "source": [
    "**Question (1): Looking at this plot, do you think the reaction is zeroth order, first order or second order? There may be more than one possible answer!**"
   ]
  },
  {
   "cell_type": "markdown",
   "id": "345ef9f3-cf0f-4cc2-8dd6-7229287a9053",
   "metadata": {},
   "source": [
    "---"
   ]
  },
  {
   "cell_type": "markdown",
   "id": "780b917f-f028-4cb0-bf63-7880adce67ef",
   "metadata": {},
   "source": [
    "## Reaction orders"
   ]
  },
  {
   "cell_type": "markdown",
   "id": "ee39e551-3257-4907-862e-536d5e35fae1",
   "metadata": {},
   "source": [
    "<!-- As you may know from A-level Chemistry, reactants in a chemical reaction can be zeroth, first or second order depending on how concentration varies with time. Looking back at the table of rate laws (and also repeated here again), you should be familiar with the first set of equations, the differentiated rate law where you can calculate the rate from the concentrations and rate constant, as well as the units for the rate constant (bottom row). The second set, the integrated rate law, may be new to you - but essentially this just integrates the first set of equations so that you can calculate the concentration of reactant at a given time, given you have the initial concentrations. The graphs for each order and type of rate law also each have distinctive shapes.\n",
    "\n",
    "<!-- ![reaction rates](rate_laws_equations.png)\n",
    "\n",
    "(from https://general.chemistrysteps.com/second-order-reactions/)\n",
    "\n",
    "![reaction rates](rate_laws_graphs.png)\n",
    "\n",
    "(from https://www.clutchprep.com/chemistry/integrated-rate-laws) -->\n",
    "\n",
    "**Skills: creating new columns, integrated rate law plots**\n",
    "\n",
    "Here are the rate laws again, for reference:\n",
    "\n",
    "![reaction rates](reaction_rates.png)\n",
    "\n",
    "Looking at our plot, the graph shape is likely to either be first order or second order since it shows curvature. However, in order to determine which one it is exactly, we will need to make use of the integrated rate laws mentioned earlier.\n",
    "\n",
    "As a recap, the integrated rate equations for each order should produce straight line graphs. For a first order reaction, we plot $ln([A])$ as our $y$ vs $t$ as our $x$ and for a second order reaction, we plot $\\frac{1}{[A]}$ as our $y$ vs $t$ as our $x$. \n",
    "\n",
    "We can plot both of these graphs, adding an extra column for these calculations, and see which graph gives a linear plot. We can't start variable names with numbers or have them contain operators like /, so we've named the variable for `1/[A]` to be `recA` (as short for 'reciprocal of A')\n",
    "\n",
    "We'll first create these new columns which save the results of calculations done to existing columns. To calculate the natural log, we will need to import another library used for mathematical operations, `numpy`, commonly abbreviated as `np`."
   ]
  },
  {
   "cell_type": "code",
   "execution_count": null,
   "id": "2bbb06d7-2abd-42c8-a56c-a37b242fb784",
   "metadata": {},
   "outputs": [],
   "source": [
    "# Import library\n",
    "import numpy as np"
   ]
  },
  {
   "cell_type": "markdown",
   "id": "2f5d2f4f-6295-4a0e-b932-31a5023685b7",
   "metadata": {},
   "source": [
    "We will preview our dataset again, and can see we now have 2 new columns:"
   ]
  },
  {
   "cell_type": "code",
   "execution_count": null,
   "id": "32c0a45e-2fdc-40ca-9d23-2de5f652d53b",
   "metadata": {},
   "outputs": [],
   "source": [
    "data[\"ln([A])\"] = np.log(data[\"[A] / mol dm⁻³\"]) # np.log() is essentially the ln() function in maths\n",
    "data[\"1/[A]\"] = 1 / (data[\"[A] / mol dm⁻³\"])\n",
    "data.head()"
   ]
  },
  {
   "cell_type": "markdown",
   "id": "cbc44183-0495-4620-a7f2-9675e4aa90d9",
   "metadata": {},
   "source": [
    "We will now plot the graphs:"
   ]
  },
  {
   "cell_type": "code",
   "execution_count": null,
   "id": "af1e12e0-5956-4a4b-837c-138d0b081d4a",
   "metadata": {},
   "outputs": [],
   "source": [
    "lnA = data[\"ln([A])\"]\n",
    "recA = data[\"1/[A]\"]\n",
    "\n",
    "fig, ax = plt.subplots()\n",
    "ax.scatter(t,lnA)\n",
    "ax.set_xlabel('time / s')\n",
    "ax.set_ylabel('ln([A] / mol dm$^{-3}$)')\n",
    "\n",
    "fig, ax = plt.subplots()\n",
    "ax.scatter(t,recA)\n",
    "ax.set_xlabel('time / s')\n",
    "ax.set_ylabel('1 / ([A] / mol dm$^{-3}$)')"
   ]
  },
  {
   "cell_type": "markdown",
   "id": "eaf03259-4cbb-44ff-9aaa-6c1dd25eec98",
   "metadata": {},
   "source": [
    "You will notice this time, instead of using `plt.scatter`, we use `fig, ax = plt.subplots()`and then `ax.scatter`. \n",
    "\n",
    "`plt.scatter` will act on the current figure/axes, so instead of plotting 2 separate graphs it will just plot on the same graph twice - which can be helpful in some cases but because we're using different units for our y axis it would not work. Therefore, we call `fig, ax = plt.subplots()` to create a new figure and axis using `plt.subplots()`, and plot on that specific `ax`."
   ]
  },
  {
   "cell_type": "markdown",
   "id": "52d775af-5cf0-46fe-b005-90da0a1afbdf",
   "metadata": {},
   "source": [
    "**Question (2): Looking at these two plots, which appears to give a straighter line? Hence which order do you think the reaction is most likely to be?**"
   ]
  },
  {
   "cell_type": "markdown",
   "id": "cd13e48c-150d-4982-9c93-d14eb7cfa856",
   "metadata": {},
   "source": [
    "---"
   ]
  },
  {
   "cell_type": "markdown",
   "id": "f4b0cd37-a81e-4bc9-ba08-52d66cfee198",
   "metadata": {},
   "source": [
    "## Extension 1 - using `scikit-learn` to determine $R^2$ values"
   ]
  },
  {
   "cell_type": "markdown",
   "id": "b9782619-7786-4ed4-8485-987610cc5b0f",
   "metadata": {},
   "source": [
    "**Skills: creating linear regression models, $R^2$ values**\n",
    "\n",
    "We've seen visually, or _qualitatively_, what order the reaction is most likely to be. We can also use the statistical method we mentioned (linear regression) to verify this _quantitatively_, utilising the library [`scikit-learn`](https://scikit-learn.org/stable/index.html)  by calculating an $R^2$ value. The $R^2$ value ranges from 0 to 1 and measures how well the model predicts the outcome (0 = very poor, 1 = very well). The more linear the points on the graph, the higher the $R^2$ value.\n",
    "\n",
    "There are several steps we need to take to set up and use the linear regression model:\n",
    "1. Import the model from `scikit-learn` that we want to use (which is `LinearRegression()` in this case)\n",
    "2. Prepare the data so that it is in a suitable format for the model - the training data is a two-dimensional object, so we want to represent x as a dataframe, hence the use of two `[]` instead of one as we might expect.\n",
    "3. Pass $X$ and $Y$ to the `fit()` method to train our model. $X$ contains our _training data_, and $Y$ contains our _target values_."
   ]
  },
  {
   "cell_type": "code",
   "execution_count": null,
   "id": "6fd7e43a-0625-4865-9e48-6ff5f6546d48",
   "metadata": {},
   "outputs": [],
   "source": [
    "# Import library\n",
    "from sklearn.linear_model import LinearRegression"
   ]
  },
  {
   "cell_type": "code",
   "execution_count": null,
   "id": "f8626bd2-2591-4a43-8fd6-969cc015f0e6",
   "metadata": {},
   "outputs": [],
   "source": [
    "model_1 = LinearRegression(fit_intercept=True)\n",
    "\n",
    "x = data[[\"time / s\"]] # The double square brackets are needed because input features must be 2D\n",
    "y = data['ln([A])']\n",
    "\n",
    "model_1.fit(x, y)\n",
    "\n",
    "R_squared_1 = model_1.score(x, y)\n",
    "print(f\"The R squared value is {round(R_squared_1,3)}.\")"
   ]
  },
  {
   "cell_type": "code",
   "execution_count": null,
   "id": "1edae04e-aad0-47e9-9daa-2bc539617346",
   "metadata": {},
   "outputs": [],
   "source": [
    "model_2 = LinearRegression(fit_intercept=True)\n",
    "\n",
    "x = data[[\"time / s\"]]\n",
    "y = data['1/[A]']\n",
    "\n",
    "model_2.fit(x, y)\n",
    "\n",
    "R_squared_2 = model_2.score(x, y)\n",
    "print(f\"The R squared value is {round(R_squared_2,3)}.\")"
   ]
  },
  {
   "cell_type": "markdown",
   "id": "9c31f96d-9e10-48a6-afc0-70cc83fb5673",
   "metadata": {},
   "source": [
    "We can see that both graphs give pretty good $R^2$ values, however as model 2's value is closer to 1 so we can confirm that the reaction is indeed second order with respect to reactant A."
   ]
  },
  {
   "cell_type": "markdown",
   "id": "163f49c0-f9e2-4dd7-af61-7fc4ad00cf4c",
   "metadata": {},
   "source": [
    "---"
   ]
  },
  {
   "cell_type": "markdown",
   "id": "586b892d-d3cb-487e-91a5-b66c8392dff1",
   "metadata": {},
   "source": [
    "## Extension 2 - using `scikit-learn` to draw a line of best fit and predict concentrations at a given time"
   ]
  },
  {
   "cell_type": "markdown",
   "id": "4c8191b4-5a54-47cd-a8c5-c8b5c461ff7a",
   "metadata": {},
   "source": [
    "**Skills: using the linear regression outputs `.coef_` and `.intercept_`, manipulating rate equations**\n",
    "\n",
    "We can now use `scikit-learn` again, but this time we use linear regression to predict the concentration of reactant at a given time. We can first plot a line of best fit from our straight line graph that we looked at earlier:\n",
    "\n",
    "<!-- # # Run this cell as it is\n",
    "# from sklearn import linear_model\n",
    "\n",
    "# # Prepare the data\n",
    "# X = data[[\"t\"]]\n",
    "# Y = data[\"1/[A]\"]\n",
    "\n",
    "# model = linear_model.LinearRegression(fit_intercept = True) # Create the model\n",
    "\n",
    "# model.fit(X, Y) # Fit the model to the data\n",
    "\n",
    "# data[\"pred_y\"] = model.predict(X) # Use the model for prediction and create new column in the dataframe to store this\n",
    "\n",
    "# # Output the results\n",
    "# print(\"Line gradient from model: \", model.coef_[0])\n",
    "# print(\"Line intercept from model:\", model.intercept_) -->"
   ]
  },
  {
   "cell_type": "code",
   "execution_count": null,
   "id": "808f59f3-cea2-427f-9212-ab780615ac6c",
   "metadata": {},
   "outputs": [],
   "source": [
    "data[\"pred_y\"] = model_2.predict(x) # Use the model for prediction and create new column in the dataframe to store this\n",
    "\n",
    "lnA = data[\"ln([A])\"]\n",
    "recA = data[\"1/[A]\"]\n",
    "pred_Y = data[\"pred_y\"]\n",
    "\n",
    "fig, ax = plt.subplots()\n",
    "ax.scatter(t,recA)\n",
    "ax.plot(t,pred_Y,color = \"black\")\n",
    "ax.set_xlabel('time / s')\n",
    "ax.set_ylabel('1 / ([A] / mol dm$^{-3}$)')"
   ]
  },
  {
   "cell_type": "markdown",
   "id": "1a9872d4-dc5d-47c9-b1f8-667a9a783034",
   "metadata": {},
   "source": [
    "Looking back at the integrated rate laws we discussed earlier, we can see that this line essentially represents the integrated rate law equation, which is $\\frac{1}{[A]} = \\frac{1}{[A]_0} + kt$. We can see that the intercept corresponds to the value of $\\frac{1}{[A]_0}$, and the gradient corresponds to the value of $k$, which is our rate constant.\n",
    "\n",
    "Let's output these values, which are the $m$ and $c$ values respectively of a $y = mx + c$ equation. \n",
    "<!-- \n",
    "We can also see from the table that the units of $k$ are $M^{-1} s^{-1}$ (or $mol^{-1} dm^{3} s^{-1}$) for a second order reaction.\n",
    "\n",
    "Let's verify this from the rate equation's units:\n",
    "\n",
    "$rate = k[A]^2$\n",
    "\n",
    "$mol dm^{-3} s^{-1} = (k) * (mol dm^{-3})^2$\n",
    "\n",
    "$mol dm^{-3} s^{-1} = (k) * (mol dm^{-3}) * (mol dm^{-3})$\n",
    "\n",
    "Cancelling out:\n",
    "\n",
    "$s^{-1} = (k) * (mol dm^{-3})$\n",
    "\n",
    "$(k) = s^{-1} / (mol dm^{-3})$\n",
    "\n",
    "$(k) = (mol^{-1} dm^{3}) s^{-1}$\n",
    "\n",
    "So the units of k are indeed $mol^{-1} dm^{3} s^{-1}$. -->"
   ]
  },
  {
   "cell_type": "code",
   "execution_count": null,
   "id": "8ab0f0db-c147-4764-bf13-f6794c5612f9",
   "metadata": {},
   "outputs": [],
   "source": [
    "# Print out the .coef[0] and .intercept_ values from the model for gradient and intercept\n",
    "print(f\"Line gradient from model: {round(model_2.coef_[0],3)}\")\n",
    "print(f\"Line intercept from model: {round(model_2.intercept_,3)}\")"
   ]
  },
  {
   "cell_type": "markdown",
   "id": "bd94b9ef-39af-4964-95ee-e45dd330c14b",
   "metadata": {},
   "source": [
    "$\\frac{1}{[A]} = \\frac{1}{[A]_0} + kt$\n",
    "\n",
    "Substituting the known constants:\n",
    "\n",
    "$\\frac{1}{[A]} = 0.201 + 0.208t$\n",
    "\n",
    "So say we wanted to find the concentration of reactant A at 120 seconds:\n",
    "\n",
    "$\\frac{1}{[A]} = 0.201 + (0.208 * 120)$\n",
    "\n",
    "$[A] = \\frac{1}{0.201 + (0.208 * 120)}$\n",
    "\n",
    "$\\approx$ $0.0411$ $mol$ $dm^{-3}$\n",
    "\n",
    "Let's double check this calculation by typing in the code:"
   ]
  },
  {
   "cell_type": "code",
   "execution_count": null,
   "id": "79699223-4df2-464c-898a-c690978040b8",
   "metadata": {},
   "outputs": [],
   "source": [
    "pred_A = 1 / (model_2.coef_[0] + (model_2.intercept_ * 120))\n",
    "print(f\"The predicted concentration of reactant A at 120 seconds is {round(pred_A, 4)} mol dm⁻³.\")"
   ]
  },
  {
   "cell_type": "markdown",
   "id": "974753f3-61b3-4edc-9aab-aaccf2b3278e",
   "metadata": {},
   "source": [
    "**Question (3): From inspection of the initial concentration vs time graph what do you estimate the concentration of reactant A to be at 20 seconds? Type in the code (using the above to help) and see if it matches the estimation.**\n",
    "\n",
    "*Add some text to the cell below and press the &#9205; Run button (play symbol). To run all the cells again in order press the &#9193; button (fast-forward symbol) and then select the red \"Restart and Run All Cells\" option.*"
   ]
  },
  {
   "cell_type": "code",
   "execution_count": null,
   "id": "fb4fd59c-b48f-443c-b538-2398fb5a55d0",
   "metadata": {},
   "outputs": [],
   "source": [
    "## ADD TEXT HERE\n"
   ]
  },
  {
   "cell_type": "markdown",
   "id": "82f00aae-c5ab-4de1-8603-b62547044a6f",
   "metadata": {},
   "source": [
    "---"
   ]
  },
  {
   "cell_type": "markdown",
   "id": "e839f8f4-46db-4268-86ee-7082d9aeafde",
   "metadata": {},
   "source": [
    "## Bonus - bringing in B and C, and rolling averages"
   ]
  },
  {
   "cell_type": "markdown",
   "id": "b4fe7599-7574-4c78-8cc2-9cd70b8fd2de",
   "metadata": {},
   "source": [
    "**Skills: using `.rolling()`, plotting multiple variables, legends**\n",
    "\n",
    "The original data also contained concentrations for B and C. Let's read in this data, in a file called `concentrations_vs_time_extra.csv`."
   ]
  },
  {
   "cell_type": "code",
   "execution_count": null,
   "id": "6f0ad154-9771-47dd-b440-1842b5bb71cc",
   "metadata": {},
   "outputs": [],
   "source": [
    "data_extra_filename = \"data/concentrations_vs_time_extra.csv\" # Create variable to store the filename\n",
    "data_extra = pd.read_csv(data_extra_filename, sep = \",\") # Read in the data using pandas, specifying that the values are separated by a comma"
   ]
  },
  {
   "cell_type": "code",
   "execution_count": null,
   "id": "55eb75ea-98f6-461a-a3ab-0826c416df77",
   "metadata": {},
   "outputs": [],
   "source": [
    "# Create variables for each column in the dataframe\n",
    "t = data_extra[\"time / s\"]\n",
    "A = data_extra[\"[A] / mol dm⁻³\"]\n",
    "B = data_extra[\"[B] / mol dm⁻³\"]\n",
    "C = data_extra[\"[C] / mol dm⁻³\"]"
   ]
  },
  {
   "cell_type": "code",
   "execution_count": null,
   "id": "c22bc90e-c157-45d9-b9ff-bb2ef4049550",
   "metadata": {},
   "outputs": [],
   "source": [
    "# Plot a scatter graph for time vs concentration\n",
    "plt.scatter(t, A, label = \"compound A\")\n",
    "plt.scatter(t, B, label = \"compound B\")\n",
    "plt.scatter(t, C, label = \"compound C\")\n",
    "plt.xlabel(\"time / s\")\n",
    "plt.ylabel(\"concentration / mol dm$^{-3}$\")\n",
    "plt.legend()\n",
    "plt.show() "
   ]
  },
  {
   "cell_type": "markdown",
   "id": "f6ffed7f-35d6-4277-8c2a-c94360784f6f",
   "metadata": {},
   "source": [
    "**Question (4): Have a look at the plots - what role do you think B and C have?**"
   ]
  },
  {
   "cell_type": "markdown",
   "id": "51b37792-eebd-4f68-8851-b3a7247f96d7",
   "metadata": {},
   "source": [
    "The plot mainly shows clean trends, but we can see that for C the points become bunched together towards the end of the graph. We can use something called a rolling average to clean up the points."
   ]
  },
  {
   "cell_type": "code",
   "execution_count": null,
   "id": "e83bae55-4534-476f-b4c9-a2a40709b09e",
   "metadata": {},
   "outputs": [],
   "source": [
    "data_rolling_average = data_extra.rolling(5, min_periods = 1).mean() # try adjusting this number\n",
    "t_rolling_average = data_rolling_average[\"time / s\"]\n",
    "A_rolling_average = data_rolling_average[\"[A] / mol dm⁻³\"]\n",
    "B_rolling_average = data_rolling_average[\"[B] / mol dm⁻³\"]\n",
    "C_rolling_average = data_rolling_average[\"[C] / mol dm⁻³\"]\n",
    "plt.scatter(t_rolling_average, A_rolling_average, label = \"compound A\")\n",
    "plt.scatter(t_rolling_average, B_rolling_average, label = \"compound B\")\n",
    "plt.scatter(t_rolling_average, C_rolling_average, label = \"compound C\")\n",
    "plt.xlabel(\"time / s\")\n",
    "plt.ylabel(\"concentration / mol dm$^{-3}$\")\n",
    "plt.legend()\n",
    "plt.show()"
   ]
  },
  {
   "cell_type": "markdown",
   "id": "42942d84-772a-4d3b-ae0f-65bda8491a8c",
   "metadata": {},
   "source": [
    "The parameter (value inside the brackets for `data_2.rolling()`) is the window that the rolling average is taken for. Say we are calculating the rolling average over a window of 5 rows of data - at the very beginning, there aren't yet 5 values to use and there will only be a point on the graph after 5 data points are in the window. As a solution, we can also set the `min_periods` - as the rolling average is only taken after the window number is reached there will be points missing to start off with so the `min_periods` parameter takes this into account. Something to note is that the larger the number, the smoother the plot becomes, but if the number is too large (such as 20), the graph begins to lose its shape."
   ]
  },
  {
   "cell_type": "markdown",
   "id": "50acd26d-cc2d-4617-8ff0-f24861dfa846",
   "metadata": {},
   "source": [
    "**Question (5): Experiment with the parameters in the `.rolling()` function in the cell above, and then re-run it. Have a look at how the shape of the graph might be different.**"
   ]
  }
 ],
 "metadata": {
  "kernelspec": {
   "display_name": "Python 3 (ipykernel)",
   "language": "python",
   "name": "python3"
  },
  "language_info": {
   "codemirror_mode": {
    "name": "ipython",
    "version": 3
   },
   "file_extension": ".py",
   "mimetype": "text/x-python",
   "name": "python",
   "nbconvert_exporter": "python",
   "pygments_lexer": "ipython3",
   "version": "3.12.11"
  }
 },
 "nbformat": 4,
 "nbformat_minor": 5
}
